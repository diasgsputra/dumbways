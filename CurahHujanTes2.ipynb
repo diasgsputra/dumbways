{
  "nbformat": 4,
  "nbformat_minor": 0,
  "metadata": {
    "colab": {
      "name": "CurahHujanTes2.ipynb",
      "provenance": [],
      "authorship_tag": "ABX9TyN7/o0KeMVCKmTDvlGpnyg3",
      "include_colab_link": true
    },
    "kernelspec": {
      "name": "python3",
      "display_name": "Python 3"
    },
    "language_info": {
      "name": "python"
    }
  },
  "cells": [
    {
      "cell_type": "markdown",
      "metadata": {
        "id": "view-in-github",
        "colab_type": "text"
      },
      "source": [
        "<a href=\"https://colab.research.google.com/github/diasgsputra/dumbways/blob/master/CurahHujanTes2.ipynb\" target=\"_parent\"><img src=\"https://colab.research.google.com/assets/colab-badge.svg\" alt=\"Open In Colab\"/></a>"
      ]
    },
    {
      "cell_type": "code",
      "metadata": {
        "id": "VL0POxrq1DVq"
      },
      "source": [
        "import pandas as pd \n",
        "from pydrive.auth import GoogleAuth \n",
        "from pydrive.drive import GoogleDrive\n",
        "from google.colab import auth\n",
        "from oauth2client.client import GoogleCredentials\n",
        "auth.authenticate_user()\n",
        "gauth = GoogleAuth()\n",
        "gauth.credentials = GoogleCredentials.get_application_default()\n",
        "drive = GoogleDrive(gauth)"
      ],
      "execution_count": null,
      "outputs": []
    },
    {
      "cell_type": "code",
      "metadata": {
        "id": "-JTSVAAZ1RJd"
      },
      "source": [
        "import logging\n",
        "logging.getLogger('googleapiclient.discovery_cache').setLevel(logging.ERROR)"
      ],
      "execution_count": null,
      "outputs": []
    },
    {
      "cell_type": "code",
      "metadata": {
        "colab": {
          "base_uri": "https://localhost:8080/"
        },
        "id": "5Z9OauOz14Jt",
        "outputId": "00775d3f-08d9-4e8f-a48a-4c46c467f644"
      },
      "source": [
        "file_list = drive.ListFile({'q': \"'1usOGKGAxmcPq3rPexX35-OynhOv7VU3w' in parents and trashed=false\"}).GetList()\n",
        "for file1 in file_list:\n",
        "  print('title: %s, id: %s' % (file1['title'], file1['id']))"
      ],
      "execution_count": null,
      "outputs": [
        {
          "output_type": "stream",
          "text": [
            "title: loghujan_full.csv, id: 1trZm8JV4g_epU__exxs7j7T3zwQ0LVJm\n",
            "title: loghujan.csv, id: 1-StjuziDQzJFsjKT_ad3y2e9l2MX-Dip\n"
          ],
          "name": "stdout"
        }
      ]
    },
    {
      "cell_type": "code",
      "metadata": {
        "id": "A2M8OMgX160i"
      },
      "source": [
        "data_downloaded = drive.CreateFile({'id': '1trZm8JV4g_epU__exxs7j7T3zwQ0LVJm'})\n",
        "data_downloaded.GetContentFile('loghujan_full.csv')"
      ],
      "execution_count": null,
      "outputs": []
    },
    {
      "cell_type": "code",
      "metadata": {
        "id": "MtWSDsms18pZ"
      },
      "source": [
        "data = pd.read_csv('loghujan_full.csv',low_memory=False, lineterminator='\\n')"
      ],
      "execution_count": null,
      "outputs": []
    },
    {
      "cell_type": "code",
      "metadata": {
        "id": "LhSeu7fH1-zC"
      },
      "source": [
        "data = data[data['ch'].notna()]"
      ],
      "execution_count": null,
      "outputs": []
    },
    {
      "cell_type": "code",
      "metadata": {
        "id": "0pEp2qcn2ISA"
      },
      "source": [
        "data = data[data.id_alat != \"CH003\"]"
      ],
      "execution_count": null,
      "outputs": []
    },
    {
      "cell_type": "code",
      "metadata": {
        "colab": {
          "base_uri": "https://localhost:8080/"
        },
        "id": "wG6WFe7A2NUS",
        "outputId": "bdf8a6c9-db01-406a-8066-91cef7954521"
      },
      "source": [
        "data.isnull().sum()"
      ],
      "execution_count": null,
      "outputs": [
        {
          "output_type": "execute_result",
          "data": {
            "text/plain": [
              "id         0\n",
              "id_alat    0\n",
              "waktu      0\n",
              "t          0\n",
              "h          0\n",
              "aero       0\n",
              "speed      0\n",
              "ldr        0\n",
              "hujan      0\n",
              "ch         0\n",
              "note       0\n",
              "reset      0\n",
              "dtype: int64"
            ]
          },
          "metadata": {
            "tags": []
          },
          "execution_count": 8
        }
      ]
    },
    {
      "cell_type": "code",
      "metadata": {
        "colab": {
          "base_uri": "https://localhost:8080/"
        },
        "id": "LTNyn9LF2qk4",
        "outputId": "bcdd8721-3156-4f0b-ac76-b280a5ea4b0d"
      },
      "source": [
        "df = data\n",
        "df.isnull().sum()"
      ],
      "execution_count": null,
      "outputs": [
        {
          "output_type": "execute_result",
          "data": {
            "text/plain": [
              "id         0\n",
              "id_alat    0\n",
              "waktu      0\n",
              "t          0\n",
              "h          0\n",
              "aero       0\n",
              "speed      0\n",
              "ldr        0\n",
              "hujan      0\n",
              "ch         0\n",
              "note       0\n",
              "reset      0\n",
              "dtype: int64"
            ]
          },
          "metadata": {
            "tags": []
          },
          "execution_count": 9
        }
      ]
    },
    {
      "cell_type": "code",
      "metadata": {
        "colab": {
          "base_uri": "https://localhost:8080/",
          "height": 419
        },
        "id": "WVU8lqsznwP7",
        "outputId": "4d60c3eb-7237-4578-fcfc-b64b3c5a09a6"
      },
      "source": [
        "data"
      ],
      "execution_count": null,
      "outputs": [
        {
          "output_type": "execute_result",
          "data": {
            "text/html": [
              "<div>\n",
              "<style scoped>\n",
              "    .dataframe tbody tr th:only-of-type {\n",
              "        vertical-align: middle;\n",
              "    }\n",
              "\n",
              "    .dataframe tbody tr th {\n",
              "        vertical-align: top;\n",
              "    }\n",
              "\n",
              "    .dataframe thead th {\n",
              "        text-align: right;\n",
              "    }\n",
              "</style>\n",
              "<table border=\"1\" class=\"dataframe\">\n",
              "  <thead>\n",
              "    <tr style=\"text-align: right;\">\n",
              "      <th></th>\n",
              "      <th>id</th>\n",
              "      <th>id_alat</th>\n",
              "      <th>waktu</th>\n",
              "      <th>t</th>\n",
              "      <th>h</th>\n",
              "      <th>aero</th>\n",
              "      <th>speed</th>\n",
              "      <th>ldr</th>\n",
              "      <th>hujan</th>\n",
              "      <th>ch</th>\n",
              "      <th>note</th>\n",
              "      <th>reset</th>\n",
              "    </tr>\n",
              "  </thead>\n",
              "  <tbody>\n",
              "    <tr>\n",
              "      <th>0</th>\n",
              "      <td>1501</td>\n",
              "      <td>C001</td>\n",
              "      <td>2020-12-23 09:28:13</td>\n",
              "      <td>33.0</td>\n",
              "      <td>72</td>\n",
              "      <td>0.0</td>\n",
              "      <td>1.2</td>\n",
              "      <td>984.0</td>\n",
              "      <td>876.0</td>\n",
              "      <td>0.0</td>\n",
              "      <td>ok</td>\n",
              "      <td>1</td>\n",
              "    </tr>\n",
              "    <tr>\n",
              "      <th>1</th>\n",
              "      <td>1502</td>\n",
              "      <td>C001</td>\n",
              "      <td>2020-12-23 09:28:14</td>\n",
              "      <td>33.0</td>\n",
              "      <td>72</td>\n",
              "      <td>0.0</td>\n",
              "      <td>1.2</td>\n",
              "      <td>984.0</td>\n",
              "      <td>875.0</td>\n",
              "      <td>0.0</td>\n",
              "      <td>ok</td>\n",
              "      <td>1</td>\n",
              "    </tr>\n",
              "    <tr>\n",
              "      <th>2</th>\n",
              "      <td>1503</td>\n",
              "      <td>C001</td>\n",
              "      <td>2020-12-23 09:28:16</td>\n",
              "      <td>33.0</td>\n",
              "      <td>72</td>\n",
              "      <td>0.0</td>\n",
              "      <td>1.2</td>\n",
              "      <td>984.0</td>\n",
              "      <td>876.0</td>\n",
              "      <td>0.0</td>\n",
              "      <td>ok</td>\n",
              "      <td>1</td>\n",
              "    </tr>\n",
              "    <tr>\n",
              "      <th>3</th>\n",
              "      <td>1504</td>\n",
              "      <td>C001</td>\n",
              "      <td>2020-12-23 09:28:17</td>\n",
              "      <td>33.0</td>\n",
              "      <td>72</td>\n",
              "      <td>0.0</td>\n",
              "      <td>1.2</td>\n",
              "      <td>983.0</td>\n",
              "      <td>875.0</td>\n",
              "      <td>0.0</td>\n",
              "      <td>ok</td>\n",
              "      <td>1</td>\n",
              "    </tr>\n",
              "    <tr>\n",
              "      <th>4</th>\n",
              "      <td>1505</td>\n",
              "      <td>C001</td>\n",
              "      <td>2020-12-23 09:28:19</td>\n",
              "      <td>33.0</td>\n",
              "      <td>73</td>\n",
              "      <td>0.0</td>\n",
              "      <td>1.2</td>\n",
              "      <td>984.0</td>\n",
              "      <td>876.0</td>\n",
              "      <td>0.0</td>\n",
              "      <td>ok</td>\n",
              "      <td>1</td>\n",
              "    </tr>\n",
              "    <tr>\n",
              "      <th>...</th>\n",
              "      <td>...</td>\n",
              "      <td>...</td>\n",
              "      <td>...</td>\n",
              "      <td>...</td>\n",
              "      <td>...</td>\n",
              "      <td>...</td>\n",
              "      <td>...</td>\n",
              "      <td>...</td>\n",
              "      <td>...</td>\n",
              "      <td>...</td>\n",
              "      <td>...</td>\n",
              "      <td>...</td>\n",
              "    </tr>\n",
              "    <tr>\n",
              "      <th>13922088</th>\n",
              "      <td>15853116</td>\n",
              "      <td>C001</td>\n",
              "      <td>2021-06-02 03:37:59</td>\n",
              "      <td>24.0</td>\n",
              "      <td>99</td>\n",
              "      <td>0.0</td>\n",
              "      <td>0.0</td>\n",
              "      <td>334.0</td>\n",
              "      <td>862.0</td>\n",
              "      <td>255.0</td>\n",
              "      <td>ok</td>\n",
              "      <td>1</td>\n",
              "    </tr>\n",
              "    <tr>\n",
              "      <th>13922089</th>\n",
              "      <td>15853117</td>\n",
              "      <td>C001</td>\n",
              "      <td>2021-06-02 03:38:01</td>\n",
              "      <td>24.0</td>\n",
              "      <td>99</td>\n",
              "      <td>0.0</td>\n",
              "      <td>0.0</td>\n",
              "      <td>333.0</td>\n",
              "      <td>862.0</td>\n",
              "      <td>255.0</td>\n",
              "      <td>ok</td>\n",
              "      <td>1</td>\n",
              "    </tr>\n",
              "    <tr>\n",
              "      <th>13922090</th>\n",
              "      <td>15853118</td>\n",
              "      <td>C001</td>\n",
              "      <td>2021-06-02 03:38:02</td>\n",
              "      <td>24.0</td>\n",
              "      <td>99</td>\n",
              "      <td>0.0</td>\n",
              "      <td>0.0</td>\n",
              "      <td>333.0</td>\n",
              "      <td>862.0</td>\n",
              "      <td>255.0</td>\n",
              "      <td>ok</td>\n",
              "      <td>1</td>\n",
              "    </tr>\n",
              "    <tr>\n",
              "      <th>13922091</th>\n",
              "      <td>15853119</td>\n",
              "      <td>C001</td>\n",
              "      <td>2021-06-02 03:38:03</td>\n",
              "      <td>24.0</td>\n",
              "      <td>99</td>\n",
              "      <td>0.0</td>\n",
              "      <td>0.0</td>\n",
              "      <td>332.0</td>\n",
              "      <td>862.0</td>\n",
              "      <td>255.0</td>\n",
              "      <td>ok</td>\n",
              "      <td>1</td>\n",
              "    </tr>\n",
              "    <tr>\n",
              "      <th>13922092</th>\n",
              "      <td>15853120</td>\n",
              "      <td>C001</td>\n",
              "      <td>2021-06-02 03:38:04</td>\n",
              "      <td>24.0</td>\n",
              "      <td>99</td>\n",
              "      <td>0.0</td>\n",
              "      <td>0.0</td>\n",
              "      <td>332.0</td>\n",
              "      <td>862.0</td>\n",
              "      <td>255.0</td>\n",
              "      <td>ok</td>\n",
              "      <td>1</td>\n",
              "    </tr>\n",
              "  </tbody>\n",
              "</table>\n",
              "<p>8478295 rows × 12 columns</p>\n",
              "</div>"
            ],
            "text/plain": [
              "                id id_alat                waktu     t  ...  hujan     ch  note  reset\n",
              "0             1501    C001  2020-12-23 09:28:13  33.0  ...  876.0    0.0    ok      1\n",
              "1             1502    C001  2020-12-23 09:28:14  33.0  ...  875.0    0.0    ok      1\n",
              "2             1503    C001  2020-12-23 09:28:16  33.0  ...  876.0    0.0    ok      1\n",
              "3             1504    C001  2020-12-23 09:28:17  33.0  ...  875.0    0.0    ok      1\n",
              "4             1505    C001  2020-12-23 09:28:19  33.0  ...  876.0    0.0    ok      1\n",
              "...            ...     ...                  ...   ...  ...    ...    ...   ...    ...\n",
              "13922088  15853116    C001  2021-06-02 03:37:59  24.0  ...  862.0  255.0    ok      1\n",
              "13922089  15853117    C001  2021-06-02 03:38:01  24.0  ...  862.0  255.0    ok      1\n",
              "13922090  15853118    C001  2021-06-02 03:38:02  24.0  ...  862.0  255.0    ok      1\n",
              "13922091  15853119    C001  2021-06-02 03:38:03  24.0  ...  862.0  255.0    ok      1\n",
              "13922092  15853120    C001  2021-06-02 03:38:04  24.0  ...  862.0  255.0    ok      1\n",
              "\n",
              "[8478295 rows x 12 columns]"
            ]
          },
          "metadata": {
            "tags": []
          },
          "execution_count": 10
        }
      ]
    },
    {
      "cell_type": "code",
      "metadata": {
        "colab": {
          "base_uri": "https://localhost:8080/",
          "height": 204
        },
        "id": "swDFwSwcndcu",
        "outputId": "2cce5b2e-faa1-4b39-c93e-129a581e96e4"
      },
      "source": [
        "data.loc[data['waktu'].between('2020-12-31 23:59:55','2021-01-01 00:00:05', inclusive=False)]"
      ],
      "execution_count": null,
      "outputs": [
        {
          "output_type": "execute_result",
          "data": {
            "text/html": [
              "<div>\n",
              "<style scoped>\n",
              "    .dataframe tbody tr th:only-of-type {\n",
              "        vertical-align: middle;\n",
              "    }\n",
              "\n",
              "    .dataframe tbody tr th {\n",
              "        vertical-align: top;\n",
              "    }\n",
              "\n",
              "    .dataframe thead th {\n",
              "        text-align: right;\n",
              "    }\n",
              "</style>\n",
              "<table border=\"1\" class=\"dataframe\">\n",
              "  <thead>\n",
              "    <tr style=\"text-align: right;\">\n",
              "      <th></th>\n",
              "      <th>id</th>\n",
              "      <th>id_alat</th>\n",
              "      <th>waktu</th>\n",
              "      <th>t</th>\n",
              "      <th>h</th>\n",
              "      <th>aero</th>\n",
              "      <th>speed</th>\n",
              "      <th>ldr</th>\n",
              "      <th>hujan</th>\n",
              "      <th>ch</th>\n",
              "      <th>note</th>\n",
              "      <th>reset</th>\n",
              "    </tr>\n",
              "  </thead>\n",
              "  <tbody>\n",
              "    <tr>\n",
              "      <th>670579</th>\n",
              "      <td>672080</td>\n",
              "      <td>C001</td>\n",
              "      <td>2020-12-31 23:59:56</td>\n",
              "      <td>23.0</td>\n",
              "      <td>99</td>\n",
              "      <td>0.0</td>\n",
              "      <td>0.0</td>\n",
              "      <td>435.0</td>\n",
              "      <td>861.0</td>\n",
              "      <td>35.0</td>\n",
              "      <td>ok</td>\n",
              "      <td>1</td>\n",
              "    </tr>\n",
              "    <tr>\n",
              "      <th>670581</th>\n",
              "      <td>672082</td>\n",
              "      <td>C001</td>\n",
              "      <td>2020-12-31 23:59:58</td>\n",
              "      <td>23.0</td>\n",
              "      <td>99</td>\n",
              "      <td>0.0</td>\n",
              "      <td>0.0</td>\n",
              "      <td>435.0</td>\n",
              "      <td>861.0</td>\n",
              "      <td>35.0</td>\n",
              "      <td>ok</td>\n",
              "      <td>1</td>\n",
              "    </tr>\n",
              "    <tr>\n",
              "      <th>670583</th>\n",
              "      <td>672084</td>\n",
              "      <td>C001</td>\n",
              "      <td>2020-12-31 23:59:59</td>\n",
              "      <td>23.0</td>\n",
              "      <td>99</td>\n",
              "      <td>0.0</td>\n",
              "      <td>0.0</td>\n",
              "      <td>436.0</td>\n",
              "      <td>862.0</td>\n",
              "      <td>35.0</td>\n",
              "      <td>ok</td>\n",
              "      <td>1</td>\n",
              "    </tr>\n",
              "    <tr>\n",
              "      <th>670585</th>\n",
              "      <td>672086</td>\n",
              "      <td>C001</td>\n",
              "      <td>2021-01-01 00:00:00</td>\n",
              "      <td>23.0</td>\n",
              "      <td>99</td>\n",
              "      <td>0.0</td>\n",
              "      <td>0.0</td>\n",
              "      <td>441.0</td>\n",
              "      <td>861.0</td>\n",
              "      <td>35.0</td>\n",
              "      <td>ok</td>\n",
              "      <td>1</td>\n",
              "    </tr>\n",
              "    <tr>\n",
              "      <th>670587</th>\n",
              "      <td>672088</td>\n",
              "      <td>C001</td>\n",
              "      <td>2021-01-01 00:00:03</td>\n",
              "      <td>23.0</td>\n",
              "      <td>99</td>\n",
              "      <td>0.0</td>\n",
              "      <td>0.0</td>\n",
              "      <td>444.0</td>\n",
              "      <td>861.0</td>\n",
              "      <td>35.0</td>\n",
              "      <td>ok</td>\n",
              "      <td>1</td>\n",
              "    </tr>\n",
              "  </tbody>\n",
              "</table>\n",
              "</div>"
            ],
            "text/plain": [
              "            id id_alat                waktu     t  ...  hujan    ch  note  reset\n",
              "670579  672080    C001  2020-12-31 23:59:56  23.0  ...  861.0  35.0    ok      1\n",
              "670581  672082    C001  2020-12-31 23:59:58  23.0  ...  861.0  35.0    ok      1\n",
              "670583  672084    C001  2020-12-31 23:59:59  23.0  ...  862.0  35.0    ok      1\n",
              "670585  672086    C001  2021-01-01 00:00:00  23.0  ...  861.0  35.0    ok      1\n",
              "670587  672088    C001  2021-01-01 00:00:03  23.0  ...  861.0  35.0    ok      1\n",
              "\n",
              "[5 rows x 12 columns]"
            ]
          },
          "metadata": {
            "tags": []
          },
          "execution_count": 11
        }
      ]
    },
    {
      "cell_type": "code",
      "metadata": {
        "colab": {
          "base_uri": "https://localhost:8080/",
          "height": 419
        },
        "id": "nND3QklJpH5M",
        "outputId": "f7426bd3-18c9-40d5-ad14-01bcd44a3a2b"
      },
      "source": [
        "data[data.id_alat == \"C001\"]"
      ],
      "execution_count": null,
      "outputs": [
        {
          "output_type": "execute_result",
          "data": {
            "text/html": [
              "<div>\n",
              "<style scoped>\n",
              "    .dataframe tbody tr th:only-of-type {\n",
              "        vertical-align: middle;\n",
              "    }\n",
              "\n",
              "    .dataframe tbody tr th {\n",
              "        vertical-align: top;\n",
              "    }\n",
              "\n",
              "    .dataframe thead th {\n",
              "        text-align: right;\n",
              "    }\n",
              "</style>\n",
              "<table border=\"1\" class=\"dataframe\">\n",
              "  <thead>\n",
              "    <tr style=\"text-align: right;\">\n",
              "      <th></th>\n",
              "      <th>id</th>\n",
              "      <th>id_alat</th>\n",
              "      <th>waktu</th>\n",
              "      <th>t</th>\n",
              "      <th>h</th>\n",
              "      <th>aero</th>\n",
              "      <th>speed</th>\n",
              "      <th>ldr</th>\n",
              "      <th>hujan</th>\n",
              "      <th>ch</th>\n",
              "      <th>note</th>\n",
              "      <th>reset</th>\n",
              "    </tr>\n",
              "  </thead>\n",
              "  <tbody>\n",
              "    <tr>\n",
              "      <th>0</th>\n",
              "      <td>1501</td>\n",
              "      <td>C001</td>\n",
              "      <td>2020-12-23 09:28:13</td>\n",
              "      <td>33.0</td>\n",
              "      <td>72</td>\n",
              "      <td>0.0</td>\n",
              "      <td>1.2</td>\n",
              "      <td>984.0</td>\n",
              "      <td>876.0</td>\n",
              "      <td>0.0</td>\n",
              "      <td>ok</td>\n",
              "      <td>1</td>\n",
              "    </tr>\n",
              "    <tr>\n",
              "      <th>1</th>\n",
              "      <td>1502</td>\n",
              "      <td>C001</td>\n",
              "      <td>2020-12-23 09:28:14</td>\n",
              "      <td>33.0</td>\n",
              "      <td>72</td>\n",
              "      <td>0.0</td>\n",
              "      <td>1.2</td>\n",
              "      <td>984.0</td>\n",
              "      <td>875.0</td>\n",
              "      <td>0.0</td>\n",
              "      <td>ok</td>\n",
              "      <td>1</td>\n",
              "    </tr>\n",
              "    <tr>\n",
              "      <th>2</th>\n",
              "      <td>1503</td>\n",
              "      <td>C001</td>\n",
              "      <td>2020-12-23 09:28:16</td>\n",
              "      <td>33.0</td>\n",
              "      <td>72</td>\n",
              "      <td>0.0</td>\n",
              "      <td>1.2</td>\n",
              "      <td>984.0</td>\n",
              "      <td>876.0</td>\n",
              "      <td>0.0</td>\n",
              "      <td>ok</td>\n",
              "      <td>1</td>\n",
              "    </tr>\n",
              "    <tr>\n",
              "      <th>3</th>\n",
              "      <td>1504</td>\n",
              "      <td>C001</td>\n",
              "      <td>2020-12-23 09:28:17</td>\n",
              "      <td>33.0</td>\n",
              "      <td>72</td>\n",
              "      <td>0.0</td>\n",
              "      <td>1.2</td>\n",
              "      <td>983.0</td>\n",
              "      <td>875.0</td>\n",
              "      <td>0.0</td>\n",
              "      <td>ok</td>\n",
              "      <td>1</td>\n",
              "    </tr>\n",
              "    <tr>\n",
              "      <th>4</th>\n",
              "      <td>1505</td>\n",
              "      <td>C001</td>\n",
              "      <td>2020-12-23 09:28:19</td>\n",
              "      <td>33.0</td>\n",
              "      <td>73</td>\n",
              "      <td>0.0</td>\n",
              "      <td>1.2</td>\n",
              "      <td>984.0</td>\n",
              "      <td>876.0</td>\n",
              "      <td>0.0</td>\n",
              "      <td>ok</td>\n",
              "      <td>1</td>\n",
              "    </tr>\n",
              "    <tr>\n",
              "      <th>...</th>\n",
              "      <td>...</td>\n",
              "      <td>...</td>\n",
              "      <td>...</td>\n",
              "      <td>...</td>\n",
              "      <td>...</td>\n",
              "      <td>...</td>\n",
              "      <td>...</td>\n",
              "      <td>...</td>\n",
              "      <td>...</td>\n",
              "      <td>...</td>\n",
              "      <td>...</td>\n",
              "      <td>...</td>\n",
              "    </tr>\n",
              "    <tr>\n",
              "      <th>13922088</th>\n",
              "      <td>15853116</td>\n",
              "      <td>C001</td>\n",
              "      <td>2021-06-02 03:37:59</td>\n",
              "      <td>24.0</td>\n",
              "      <td>99</td>\n",
              "      <td>0.0</td>\n",
              "      <td>0.0</td>\n",
              "      <td>334.0</td>\n",
              "      <td>862.0</td>\n",
              "      <td>255.0</td>\n",
              "      <td>ok</td>\n",
              "      <td>1</td>\n",
              "    </tr>\n",
              "    <tr>\n",
              "      <th>13922089</th>\n",
              "      <td>15853117</td>\n",
              "      <td>C001</td>\n",
              "      <td>2021-06-02 03:38:01</td>\n",
              "      <td>24.0</td>\n",
              "      <td>99</td>\n",
              "      <td>0.0</td>\n",
              "      <td>0.0</td>\n",
              "      <td>333.0</td>\n",
              "      <td>862.0</td>\n",
              "      <td>255.0</td>\n",
              "      <td>ok</td>\n",
              "      <td>1</td>\n",
              "    </tr>\n",
              "    <tr>\n",
              "      <th>13922090</th>\n",
              "      <td>15853118</td>\n",
              "      <td>C001</td>\n",
              "      <td>2021-06-02 03:38:02</td>\n",
              "      <td>24.0</td>\n",
              "      <td>99</td>\n",
              "      <td>0.0</td>\n",
              "      <td>0.0</td>\n",
              "      <td>333.0</td>\n",
              "      <td>862.0</td>\n",
              "      <td>255.0</td>\n",
              "      <td>ok</td>\n",
              "      <td>1</td>\n",
              "    </tr>\n",
              "    <tr>\n",
              "      <th>13922091</th>\n",
              "      <td>15853119</td>\n",
              "      <td>C001</td>\n",
              "      <td>2021-06-02 03:38:03</td>\n",
              "      <td>24.0</td>\n",
              "      <td>99</td>\n",
              "      <td>0.0</td>\n",
              "      <td>0.0</td>\n",
              "      <td>332.0</td>\n",
              "      <td>862.0</td>\n",
              "      <td>255.0</td>\n",
              "      <td>ok</td>\n",
              "      <td>1</td>\n",
              "    </tr>\n",
              "    <tr>\n",
              "      <th>13922092</th>\n",
              "      <td>15853120</td>\n",
              "      <td>C001</td>\n",
              "      <td>2021-06-02 03:38:04</td>\n",
              "      <td>24.0</td>\n",
              "      <td>99</td>\n",
              "      <td>0.0</td>\n",
              "      <td>0.0</td>\n",
              "      <td>332.0</td>\n",
              "      <td>862.0</td>\n",
              "      <td>255.0</td>\n",
              "      <td>ok</td>\n",
              "      <td>1</td>\n",
              "    </tr>\n",
              "  </tbody>\n",
              "</table>\n",
              "<p>3364488 rows × 12 columns</p>\n",
              "</div>"
            ],
            "text/plain": [
              "                id id_alat                waktu     t  ...  hujan     ch  note  reset\n",
              "0             1501    C001  2020-12-23 09:28:13  33.0  ...  876.0    0.0    ok      1\n",
              "1             1502    C001  2020-12-23 09:28:14  33.0  ...  875.0    0.0    ok      1\n",
              "2             1503    C001  2020-12-23 09:28:16  33.0  ...  876.0    0.0    ok      1\n",
              "3             1504    C001  2020-12-23 09:28:17  33.0  ...  875.0    0.0    ok      1\n",
              "4             1505    C001  2020-12-23 09:28:19  33.0  ...  876.0    0.0    ok      1\n",
              "...            ...     ...                  ...   ...  ...    ...    ...   ...    ...\n",
              "13922088  15853116    C001  2021-06-02 03:37:59  24.0  ...  862.0  255.0    ok      1\n",
              "13922089  15853117    C001  2021-06-02 03:38:01  24.0  ...  862.0  255.0    ok      1\n",
              "13922090  15853118    C001  2021-06-02 03:38:02  24.0  ...  862.0  255.0    ok      1\n",
              "13922091  15853119    C001  2021-06-02 03:38:03  24.0  ...  862.0  255.0    ok      1\n",
              "13922092  15853120    C001  2021-06-02 03:38:04  24.0  ...  862.0  255.0    ok      1\n",
              "\n",
              "[3364488 rows x 12 columns]"
            ]
          },
          "metadata": {
            "tags": []
          },
          "execution_count": 25
        }
      ]
    },
    {
      "cell_type": "code",
      "metadata": {
        "colab": {
          "base_uri": "https://localhost:8080/",
          "height": 419
        },
        "id": "eOIzi1WapMyt",
        "outputId": "faa713db-dea1-4f04-be49-c266e6cf070f"
      },
      "source": [
        "data[data.id_alat == \"C002\"]"
      ],
      "execution_count": null,
      "outputs": [
        {
          "output_type": "execute_result",
          "data": {
            "text/html": [
              "<div>\n",
              "<style scoped>\n",
              "    .dataframe tbody tr th:only-of-type {\n",
              "        vertical-align: middle;\n",
              "    }\n",
              "\n",
              "    .dataframe tbody tr th {\n",
              "        vertical-align: top;\n",
              "    }\n",
              "\n",
              "    .dataframe thead th {\n",
              "        text-align: right;\n",
              "    }\n",
              "</style>\n",
              "<table border=\"1\" class=\"dataframe\">\n",
              "  <thead>\n",
              "    <tr style=\"text-align: right;\">\n",
              "      <th></th>\n",
              "      <th>id</th>\n",
              "      <th>id_alat</th>\n",
              "      <th>waktu</th>\n",
              "      <th>t</th>\n",
              "      <th>h</th>\n",
              "      <th>aero</th>\n",
              "      <th>speed</th>\n",
              "      <th>ldr</th>\n",
              "      <th>hujan</th>\n",
              "      <th>ch</th>\n",
              "      <th>note</th>\n",
              "      <th>reset</th>\n",
              "    </tr>\n",
              "  </thead>\n",
              "  <tbody>\n",
              "    <tr>\n",
              "      <th>2444923</th>\n",
              "      <td>2446424</td>\n",
              "      <td>C002</td>\n",
              "      <td>2021-02-20 21:55:47</td>\n",
              "      <td>0.0</td>\n",
              "      <td>0</td>\n",
              "      <td>53.0</td>\n",
              "      <td>0.0</td>\n",
              "      <td>957.0</td>\n",
              "      <td>182.0</td>\n",
              "      <td>0.0</td>\n",
              "      <td>0</td>\n",
              "      <td>1</td>\n",
              "    </tr>\n",
              "    <tr>\n",
              "      <th>2444925</th>\n",
              "      <td>2446426</td>\n",
              "      <td>C002</td>\n",
              "      <td>2021-02-20 21:55:51</td>\n",
              "      <td>0.0</td>\n",
              "      <td>0</td>\n",
              "      <td>49.0</td>\n",
              "      <td>0.0</td>\n",
              "      <td>958.0</td>\n",
              "      <td>180.0</td>\n",
              "      <td>0.0</td>\n",
              "      <td>0</td>\n",
              "      <td>1</td>\n",
              "    </tr>\n",
              "    <tr>\n",
              "      <th>2444927</th>\n",
              "      <td>2446428</td>\n",
              "      <td>C002</td>\n",
              "      <td>2021-02-20 21:55:53</td>\n",
              "      <td>0.0</td>\n",
              "      <td>0</td>\n",
              "      <td>139.0</td>\n",
              "      <td>0.0</td>\n",
              "      <td>962.0</td>\n",
              "      <td>183.0</td>\n",
              "      <td>0.0</td>\n",
              "      <td>0</td>\n",
              "      <td>1</td>\n",
              "    </tr>\n",
              "    <tr>\n",
              "      <th>2444929</th>\n",
              "      <td>2446430</td>\n",
              "      <td>C002</td>\n",
              "      <td>2021-02-20 21:55:56</td>\n",
              "      <td>0.0</td>\n",
              "      <td>0</td>\n",
              "      <td>55.0</td>\n",
              "      <td>0.0</td>\n",
              "      <td>960.0</td>\n",
              "      <td>181.0</td>\n",
              "      <td>0.0</td>\n",
              "      <td>0</td>\n",
              "      <td>1</td>\n",
              "    </tr>\n",
              "    <tr>\n",
              "      <th>2444931</th>\n",
              "      <td>2446432</td>\n",
              "      <td>C002</td>\n",
              "      <td>2021-02-20 21:55:58</td>\n",
              "      <td>0.0</td>\n",
              "      <td>0</td>\n",
              "      <td>57.0</td>\n",
              "      <td>0.0</td>\n",
              "      <td>957.0</td>\n",
              "      <td>178.0</td>\n",
              "      <td>0.0</td>\n",
              "      <td>0</td>\n",
              "      <td>1</td>\n",
              "    </tr>\n",
              "    <tr>\n",
              "      <th>...</th>\n",
              "      <td>...</td>\n",
              "      <td>...</td>\n",
              "      <td>...</td>\n",
              "      <td>...</td>\n",
              "      <td>...</td>\n",
              "      <td>...</td>\n",
              "      <td>...</td>\n",
              "      <td>...</td>\n",
              "      <td>...</td>\n",
              "      <td>...</td>\n",
              "      <td>...</td>\n",
              "      <td>...</td>\n",
              "    </tr>\n",
              "    <tr>\n",
              "      <th>13872746</th>\n",
              "      <td>14746461</td>\n",
              "      <td>C002</td>\n",
              "      <td>2021-05-26 08:30:25</td>\n",
              "      <td>0.0</td>\n",
              "      <td>0</td>\n",
              "      <td>307.0</td>\n",
              "      <td>0.0</td>\n",
              "      <td>969.0</td>\n",
              "      <td>374.0</td>\n",
              "      <td>0.0</td>\n",
              "      <td>0</td>\n",
              "      <td>1</td>\n",
              "    </tr>\n",
              "    <tr>\n",
              "      <th>13872749</th>\n",
              "      <td>14746464</td>\n",
              "      <td>C002</td>\n",
              "      <td>2021-05-26 08:30:26</td>\n",
              "      <td>0.0</td>\n",
              "      <td>0</td>\n",
              "      <td>303.0</td>\n",
              "      <td>0.0</td>\n",
              "      <td>970.0</td>\n",
              "      <td>375.0</td>\n",
              "      <td>0.0</td>\n",
              "      <td>0</td>\n",
              "      <td>1</td>\n",
              "    </tr>\n",
              "    <tr>\n",
              "      <th>13872752</th>\n",
              "      <td>14746467</td>\n",
              "      <td>C002</td>\n",
              "      <td>2021-05-26 08:30:29</td>\n",
              "      <td>0.0</td>\n",
              "      <td>0</td>\n",
              "      <td>297.0</td>\n",
              "      <td>0.0</td>\n",
              "      <td>969.0</td>\n",
              "      <td>375.0</td>\n",
              "      <td>0.0</td>\n",
              "      <td>0</td>\n",
              "      <td>1</td>\n",
              "    </tr>\n",
              "    <tr>\n",
              "      <th>13872758</th>\n",
              "      <td>14746473</td>\n",
              "      <td>C002</td>\n",
              "      <td>2021-05-26 08:30:34</td>\n",
              "      <td>0.0</td>\n",
              "      <td>0</td>\n",
              "      <td>300.0</td>\n",
              "      <td>0.0</td>\n",
              "      <td>969.0</td>\n",
              "      <td>375.0</td>\n",
              "      <td>0.0</td>\n",
              "      <td>0</td>\n",
              "      <td>1</td>\n",
              "    </tr>\n",
              "    <tr>\n",
              "      <th>13872762</th>\n",
              "      <td>14746477</td>\n",
              "      <td>C002</td>\n",
              "      <td>2021-05-26 08:30:36</td>\n",
              "      <td>0.0</td>\n",
              "      <td>0</td>\n",
              "      <td>307.0</td>\n",
              "      <td>0.0</td>\n",
              "      <td>974.0</td>\n",
              "      <td>377.0</td>\n",
              "      <td>0.0</td>\n",
              "      <td>0</td>\n",
              "      <td>1</td>\n",
              "    </tr>\n",
              "  </tbody>\n",
              "</table>\n",
              "<p>5113807 rows × 12 columns</p>\n",
              "</div>"
            ],
            "text/plain": [
              "                id id_alat                waktu    t  ...  hujan   ch  note  reset\n",
              "2444923    2446424    C002  2021-02-20 21:55:47  0.0  ...  182.0  0.0     0      1\n",
              "2444925    2446426    C002  2021-02-20 21:55:51  0.0  ...  180.0  0.0     0      1\n",
              "2444927    2446428    C002  2021-02-20 21:55:53  0.0  ...  183.0  0.0     0      1\n",
              "2444929    2446430    C002  2021-02-20 21:55:56  0.0  ...  181.0  0.0     0      1\n",
              "2444931    2446432    C002  2021-02-20 21:55:58  0.0  ...  178.0  0.0     0      1\n",
              "...            ...     ...                  ...  ...  ...    ...  ...   ...    ...\n",
              "13872746  14746461    C002  2021-05-26 08:30:25  0.0  ...  374.0  0.0     0      1\n",
              "13872749  14746464    C002  2021-05-26 08:30:26  0.0  ...  375.0  0.0     0      1\n",
              "13872752  14746467    C002  2021-05-26 08:30:29  0.0  ...  375.0  0.0     0      1\n",
              "13872758  14746473    C002  2021-05-26 08:30:34  0.0  ...  375.0  0.0     0      1\n",
              "13872762  14746477    C002  2021-05-26 08:30:36  0.0  ...  377.0  0.0     0      1\n",
              "\n",
              "[5113807 rows x 12 columns]"
            ]
          },
          "metadata": {
            "tags": []
          },
          "execution_count": 26
        }
      ]
    },
    {
      "cell_type": "code",
      "metadata": {
        "id": "Gx5gQsZa7d2q"
      },
      "source": [
        "# df = df.replace({'note': {'ok': 1}})\n",
        "# df"
      ],
      "execution_count": null,
      "outputs": []
    },
    {
      "cell_type": "code",
      "metadata": {
        "id": "cBzgoKPV8zPP"
      },
      "source": [
        "import tensorflow as tf\n",
        "\n",
        "# Helper libraries\n",
        "import numpy as np\n",
        "import matplotlib.pyplot as plt\n",
        "import keras\n",
        "from keras.layers import Dense\n",
        "from keras.models import Sequential\n"
      ],
      "execution_count": null,
      "outputs": []
    },
    {
      "cell_type": "code",
      "metadata": {
        "id": "_pGbvEyy-OyG"
      },
      "source": [
        "X=df[['t', 'h', 'aero', 'speed', 'ldr']]\n",
        "y=df[['ch']]"
      ],
      "execution_count": null,
      "outputs": []
    },
    {
      "cell_type": "code",
      "metadata": {
        "id": "KpoEJm_e_2Hk"
      },
      "source": [
        "from sklearn.model_selection import train_test_split"
      ],
      "execution_count": null,
      "outputs": []
    },
    {
      "cell_type": "code",
      "metadata": {
        "id": "3VVvUleo-hFL"
      },
      "source": [
        "xtrain,xtest,ytrain,ytest=train_test_split(X,y,test_size=0.2, random_state=41)"
      ],
      "execution_count": null,
      "outputs": []
    },
    {
      "cell_type": "code",
      "metadata": {
        "id": "TqtiqeSp-uKK"
      },
      "source": [
        "# from sklearn.preprocessing import StandardScaler\n",
        "# scaler = StandardScaler()\n",
        "# xtrain = scaler.fit_transform(xtrain)\n",
        "# xtest = scaler.transform(xtest)"
      ],
      "execution_count": null,
      "outputs": []
    },
    {
      "cell_type": "code",
      "metadata": {
        "id": "6AD5FJLF84gA"
      },
      "source": [
        "# ann  = Sequential()\n",
        "# ann.add(Dense(units= 64, activation = 'relu', input_dim=5))\n",
        "# ann.add(Dense(units= 16, activation = 'relu'))\n",
        "# ann.add(Dense(units= 1, activation = 'sigmoid'))\n",
        "# ann.compile(optimizer='adam',\n",
        "#               loss='mean_squared_error',\n",
        "#               metrics=['accuracy'])"
      ],
      "execution_count": null,
      "outputs": []
    },
    {
      "cell_type": "code",
      "metadata": {
        "id": "cLyftIZ6BisJ"
      },
      "source": [
        "# model = keras.Sequential([\n",
        "#     keras.layers.Flatten(input_shape=(28, 28)),  # input layer (1)\n",
        "#     keras.layers.Dense(128, activation='relu'),  # hidden layer (2)\n",
        "#     keras.layers.Dense(10, activation='softmax') # output layer (3)\n",
        "# ])"
      ],
      "execution_count": null,
      "outputs": []
    },
    {
      "cell_type": "code",
      "metadata": {
        "id": "AuzicjdWBqnW"
      },
      "source": [
        "# model.compile(optimizer='adam',\n",
        "#               loss='sparse_categorical_crossentropy',\n",
        "#               metrics=['accuracy'])"
      ],
      "execution_count": null,
      "outputs": []
    },
    {
      "cell_type": "code",
      "metadata": {
        "id": "PkXMrM8E9Bj1"
      },
      "source": [
        "# ann.fit(xtrain,ytrain, batch_size=10, epochs=1,verbose= 1)\n",
        "# model.fit(xtrain, ytrain, epochs=10)  # we pass the data, labels and epochs and watch the magic!"
      ],
      "execution_count": null,
      "outputs": []
    },
    {
      "cell_type": "code",
      "metadata": {
        "id": "XmAtc4uI3_C7"
      },
      "source": [
        ""
      ],
      "execution_count": null,
      "outputs": []
    },
    {
      "cell_type": "code",
      "metadata": {
        "id": "QL7YRjwwAY8R"
      },
      "source": [
        ""
      ],
      "execution_count": null,
      "outputs": []
    }
  ]
}